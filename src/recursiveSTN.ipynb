{
 "cells": [
  {
   "cell_type": "code",
   "execution_count": 1,
   "metadata": {},
   "outputs": [
    {
     "name": "stdout",
     "output_type": "stream",
     "text": [
      "49.35\n"
     ]
    }
   ],
   "source": [
    "#!/usr/bin/env python3\n",
    "\n",
    "import rospy\n",
    "from multi_robot.msg import TD_task\n",
    "import yaml\n",
    "from random import randint, choice\n",
    "import numpy as np\n",
    "\n",
    "with open(\"/home/td0013/catkin_ws/src/multi_robot/param/distance_params.yaml\", 'r') as file1:\n",
    "    points= yaml.safe_load(file1)\n",
    "    points = points[\"world_nodes\"]\n",
    "\n",
    "dist= np.loadtxt('/home/td0013/catkin_ws/src/multi_robot/param/dist.txt', usecols=range(22))\n",
    "dist = np.round(dist, decimals=3)\n",
    "places = {}\n",
    "z=0\n",
    "for i in points:\n",
    "    places[i] = z\n",
    "    z+=1\n",
    "\n",
    "# print(choice(list(points.keys())))\n",
    "# for i in dist:\n",
    "#     print(i)\n",
    "# print(dist[places[\"reception\"]][places[\"reception\"]])\n",
    "print(np.matrix(dist).max())\n"
   ]
  },
  {
   "cell_type": "code",
   "execution_count": 2,
   "metadata": {},
   "outputs": [
    {
     "name": "stdout",
     "output_type": "stream",
     "text": [
      "['reception', 'store_1', 'store_2', 'doctor_off_1', 'doctor_off_2', 'washroom_1', 'washroom_2', 'ot_1', 'ot_2', 'ot_3', 'ot_4', 'ot_5', 'ot_6', 'ward_1', 'ward_2', 'ward_3', 'ward_4', 'ward_5', 'wait', 'dock_1', 'dock_2', 'dock_3']\n"
     ]
    }
   ],
   "source": [
    "# Robot Parameters\n",
    "velocity = 0.1\n",
    "capacity = 400\n",
    "energy = 40000\n",
    "mass = 10\n",
    "\n",
    "print(list(points.keys()) )\n",
    "# startPos = choice(list(points.keys()))\n"
   ]
  },
  {
   "cell_type": "code",
   "execution_count": 3,
   "metadata": {},
   "outputs": [],
   "source": [
    "def getNearestDock(pos):\n",
    "    global dist\n",
    "    asd = 10e9\n",
    "    for i in [\"dock_1\", \"dock_2\", \"dock_3\"]:\n",
    "        asd  = min(asd, dist[places[i]][places[pos]])\n",
    "    \n",
    "    return asd\n",
    "\n",
    "\n",
    "def tempSTN(nodes, time, pos, taskI, energyRem, started, capacityRem, currList, currPen):\n",
    "    global capacity\n",
    "    global mass\n",
    "    global velocity\n",
    "    global retList\n",
    "    global minPen\n",
    "    global minTT\n",
    "    if len(taskI)==0:\n",
    "        print(currList, currPen)\n",
    "        if(currPen<minPen):\n",
    "            minPen = currPen\n",
    "            t = currList.copy()\n",
    "            retList=t\n",
    "            minTT = min(minTT, currList[-1][1])\n",
    "        # retList.append(t)\n",
    "        # print(retList)\n",
    "        \n",
    "    else:\n",
    "        for i in taskI:\n",
    "            # print(currList)\n",
    "            if(i in started):   # Has the task been picked up\n",
    "                timecpy = time+(dist[places[pos]][places[nodes[i].destination]])/velocity  #Current Time Update\n",
    "                enRem = energyRem-(1/2*(mass+capacity-capacityRem)*velocity**2)*((dist[places[pos]][places[nodes[i].destination]])/velocity) #Current energy remaining update\n",
    "                # print(enRem)\n",
    "                pos = nodes[i].destination                                  #current Position\n",
    "                # print(str(i)+\"drop\", timecpy)\n",
    "\n",
    "                if(nodes[i].timeconstraint ==1):\n",
    "                    tempPen = currPen+max(0, (timecpy-nodes[i].finishTime))   #penalty update for soft task\n",
    "                else:                                                        #Hard task penalty update\n",
    "                    if(timecpy-nodes[i].finishTime>0):\n",
    "                        tempPen =currPen+10e6\n",
    "                    else:\n",
    "                        tempPen = currPen\n",
    "\n",
    "                capacityRem = capacityRem+nodes[i].demand                   # New capacity\n",
    "\n",
    "                cap = capacity-capacityRem\n",
    "                tt = enRem/(1/2*(mass+cap)*velocity**2)                     # possible total travel time with new capacity\n",
    "\n",
    "                if((timecpy+getNearestDock(pos)/velocity)>tt):              # Does robot run out of energy before reaching nearest dock\n",
    "                    # print(\"energy over\")\n",
    "                    tempSTN(nodes, time, pos, set(), energyRem, started, capacityRem, currList, 10e9)\n",
    "                else:\n",
    "                    currList.append([pos, timecpy])                           \n",
    "                    taskIcpy = taskI.copy()\n",
    "                    taskIcpy.remove(i)            # remove curr task from task list as it has been delivered\n",
    "                    tempSTN(nodes, timecpy, pos, taskIcpy, enRem, started, capacityRem, currList, tempPen)   #Recursion with current time, current pos, current energy rem\n",
    "                    currList.pop()\n",
    "\n",
    "            else:       # if task not picked up\n",
    "                timecpy = time+(dist[places[pos]][places[nodes[i].pickup]])/velocity #Current Time Update\n",
    "                enRem = energyRem-(1/2*(mass+capacity-capacityRem)*velocity**2)*((dist[places[pos]][places[nodes[i].pickup]])/velocity) #Current energy remaining update\n",
    "                # print(enRem)\n",
    "                pos = nodes[i].pickup   #current pos\n",
    "\n",
    "                if(nodes[i].startTime>timecpy): # Basically wait for task to start\n",
    "                    timecpy = nodes[i].startTime\n",
    "            \n",
    "                currList.append([pos, timecpy])\n",
    "                startedCpy = started.copy()\n",
    "                startedCpy.add(i)\n",
    "\n",
    "                capacityRem = capacityRem-nodes[i].demand\n",
    "                cap = capacity-capacityRem\n",
    "                tt = enRem/(1/2*(mass+cap)*velocity**2)        # possible travel time with current capacity              \n",
    "\n",
    "                if((timecpy+getNearestDock(pos)/velocity)>tt): # Does robot run out of energy before reaching nearest dock\n",
    "                    print(\"energy over\")\n",
    "                    tempSTN(nodes, time, pos, set(), energyRem, started, capacityRem, currList, 10e9)\n",
    "                else:\n",
    "                    if(capacityRem<0):\n",
    "                        tempSTN(nodes, time, pos, set(), enRem, started, capacity, currList, 10e9)\n",
    "                    # print(str(i)+\"start\", time, nodes[i].startTime, timecpy)\n",
    "                    else:\n",
    "                        tempSTN(nodes, timecpy, pos, taskI, enRem, startedCpy, capacityRem, currList, currPen)\n",
    "                currList.pop()"
   ]
  },
  {
   "cell_type": "code",
   "execution_count": 4,
   "metadata": {},
   "outputs": [
    {
     "name": "stdout",
     "output_type": "stream",
     "text": [
      "taskID: 0\n",
      "arrivalTime: 0\n",
      "startTime: 2\n",
      "finishTime: 35\n",
      "pickup: \"store_1\"\n",
      "destination: \"ward_4\"\n",
      "demand: 76\n",
      "type: 0\n",
      "timeconstraint: 0\n",
      "\n",
      "taskID: 1\n",
      "arrivalTime: 0\n",
      "startTime: 4\n",
      "finishTime: 30\n",
      "pickup: \"ot_5\"\n",
      "destination: \"store_1\"\n",
      "demand: 86\n",
      "type: 0\n",
      "timeconstraint: 1\n",
      "\n"
     ]
    }
   ],
   "source": [
    "## Demo Tasks\n",
    "taskQ = []\n",
    "\n",
    "for i in range(2):\n",
    "    task = TD_task()\n",
    "    task.taskID= i\n",
    "    task.arrivalTime = 0\n",
    "    task.demand = randint(20, 100)\n",
    "    task.destination = choice(list(points.keys()))\n",
    "    task.finishTime = randint(20,40)\n",
    "    task.pickup = choice(list(points.keys()))\n",
    "    while task.pickup==task.destination:\n",
    "        task.pickup = choice(list(points.keys()))\n",
    "    task.startTime = randint(0,10)\n",
    "    task.timeconstraint = randint(0,1)\n",
    "\n",
    "    taskQ.append(task)\n",
    "\n",
    "for i in taskQ:\n",
    "    print(i)\n",
    "    print()"
   ]
  },
  {
   "cell_type": "code",
   "execution_count": 5,
   "metadata": {},
   "outputs": [],
   "source": [
    "def getSTN(tasks):\n",
    "    nodes = {}\n",
    "    currNodes = set()\n",
    "    for i in tasks:\n",
    "        nodes[i.taskID] = i\n",
    "        currNodes.add(i.taskID)\n",
    "\n",
    "    # generateSTN(0,startPos, currNodes, energy, set(), capacity)\n",
    "    currList = []\n",
    "    energyRem = energy\n",
    "    tempSTN(nodes, 0,startPos, currNodes, energyRem, set(), capacity, currList, 0)\n"
   ]
  },
  {
   "cell_type": "code",
   "execution_count": 6,
   "metadata": {},
   "outputs": [
    {
     "ename": "NameError",
     "evalue": "name 'startPos' is not defined",
     "output_type": "error",
     "traceback": [
      "\u001b[0;31m---------------------------------------------------------------------------\u001b[0m",
      "\u001b[0;31mNameError\u001b[0m                                 Traceback (most recent call last)",
      "Cell \u001b[0;32mIn[6], line 5\u001b[0m\n\u001b[1;32m      3\u001b[0m minPen \u001b[39m=\u001b[39m \u001b[39m10e9\u001b[39m\n\u001b[1;32m      4\u001b[0m minTT\u001b[39m=\u001b[39m\u001b[39m10e9\u001b[39m\n\u001b[0;32m----> 5\u001b[0m getSTN(taskQ)\n\u001b[1;32m      8\u001b[0m \u001b[39m# pl1 = nodes[1].pickup\u001b[39;00m\n\u001b[1;32m      9\u001b[0m \u001b[39m# pl2 = nodes[0].destination\u001b[39;00m\n\u001b[1;32m     10\u001b[0m \n\u001b[1;32m     11\u001b[0m \u001b[39m# print(dist[places[\"dock_2\"]][places[\"dock_1\"]])\u001b[39;00m\n\u001b[1;32m     12\u001b[0m \u001b[39mprint\u001b[39m(retList)\n",
      "Cell \u001b[0;32mIn[5], line 11\u001b[0m, in \u001b[0;36mgetSTN\u001b[0;34m(tasks)\u001b[0m\n\u001b[1;32m      9\u001b[0m currList \u001b[39m=\u001b[39m []\n\u001b[1;32m     10\u001b[0m energyRem \u001b[39m=\u001b[39m energy\n\u001b[0;32m---> 11\u001b[0m tempSTN(nodes, \u001b[39m0\u001b[39m,startPos, currNodes, energyRem, \u001b[39mset\u001b[39m(), capacity, currList, \u001b[39m0\u001b[39m)\n",
      "\u001b[0;31mNameError\u001b[0m: name 'startPos' is not defined"
     ]
    }
   ],
   "source": [
    "retList = list()\n",
    "\n",
    "minPen = 10e9\n",
    "minTT=10e9\n",
    "getSTN(taskQ)\n",
    "\n",
    "\n",
    "# pl1 = nodes[1].pickup\n",
    "# pl2 = nodes[0].destination\n",
    "\n",
    "# print(dist[places[\"dock_2\"]][places[\"dock_1\"]])\n",
    "print(retList)\n",
    "print(minPen)\n",
    "# print(minTT)\n",
    "\n",
    "# getNearestDock(\"dock_2\")\n"
   ]
  }
 ],
 "metadata": {
  "kernelspec": {
   "display_name": "Python 3",
   "language": "python",
   "name": "python3"
  },
  "language_info": {
   "codemirror_mode": {
    "name": "ipython",
    "version": 3
   },
   "file_extension": ".py",
   "mimetype": "text/x-python",
   "name": "python",
   "nbconvert_exporter": "python",
   "pygments_lexer": "ipython3",
   "version": "3.8.10"
  },
  "orig_nbformat": 4,
  "vscode": {
   "interpreter": {
    "hash": "916dbcbb3f70747c44a77c7bcd40155683ae19c65e1c03b4aa3499c5328201f1"
   }
  }
 },
 "nbformat": 4,
 "nbformat_minor": 2
}
